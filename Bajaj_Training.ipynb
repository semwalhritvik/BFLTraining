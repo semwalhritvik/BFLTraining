{
  "nbformat": 4,
  "nbformat_minor": 0,
  "metadata": {
    "colab": {
      "name": "Bajaj Training.ipynb",
      "provenance": [],
      "collapsed_sections": [],
      "authorship_tag": "ABX9TyO2vnwgEC1ngUNMpxyJcK0l",
      "include_colab_link": true
    },
    "kernelspec": {
      "name": "python3",
      "display_name": "Python 3"
    },
    "language_info": {
      "name": "python"
    }
  },
  "cells": [
    {
      "cell_type": "markdown",
      "metadata": {
        "id": "view-in-github",
        "colab_type": "text"
      },
      "source": [
        "<a href=\"https://colab.research.google.com/github/semwalhritvik/BFLTraining/blob/main/Bajaj_Training.ipynb\" target=\"_parent\"><img src=\"https://colab.research.google.com/assets/colab-badge.svg\" alt=\"Open In Colab\"/></a>"
      ]
    },
    {
      "cell_type": "code",
      "execution_count": null,
      "metadata": {
        "id": "WJGUs1kScjIX",
        "colab": {
          "base_uri": "https://localhost:8080/"
        },
        "outputId": "fe3077ad-e09e-4291-f6d4-cb564a0c1662"
      },
      "outputs": [
        {
          "output_type": "stream",
          "name": "stdout",
          "text": [
            "3 10.0 (6+10j)\n"
          ]
        }
      ],
      "source": [
        "#Type Conversion\n",
        "a=10  \n",
        "b=3.142\n",
        "c=6+10j\n",
        "print(int(b),float(a),str(c))"
      ]
    },
    {
      "cell_type": "code",
      "source": [
        "#List\n",
        "mylist = [2,3,4,\"abc\"]\n",
        "\n",
        "#Tuple: immutable\n",
        "myTuple = (2,3,4,\"abc\")\n",
        "\n",
        "#dictionary\n",
        "myDict = {\n",
        "    \"key1\": \"value1\",\n",
        "    \"key2\": \"value2\",\n",
        "    \"key3\": 3\n",
        "}\n",
        "\n",
        "#set\n",
        "mySet = {1,22,22,3,4,5,6,6}\n",
        "print(mylist, myTuple, myDict, mySet)"
      ],
      "metadata": {
        "id": "AshSjhO_mtTH",
        "colab": {
          "base_uri": "https://localhost:8080/"
        },
        "outputId": "dcadb12b-9ffe-453b-9440-bf4f440741cd"
      },
      "execution_count": null,
      "outputs": [
        {
          "output_type": "stream",
          "name": "stdout",
          "text": [
            "[2, 3, 4, 'abc'] (2, 3, 4, 'abc') {'key1': 'value1', 'key2': 'value2', 'key3': 3} {1, 3, 4, 5, 6, 22}\n"
          ]
        }
      ]
    },
    {
      "cell_type": "code",
      "source": [
        "#Operators\n",
        "a=10\n",
        "b=2\n",
        "c=3\n",
        "print(a+b,a-b,a//b,a/b,a*b,a**b)"
      ],
      "metadata": {
        "id": "a4v7dvHLq4vB",
        "colab": {
          "base_uri": "https://localhost:8080/"
        },
        "outputId": "027e1f37-ec24-465a-ad1a-1317722895b9"
      },
      "execution_count": null,
      "outputs": [
        {
          "output_type": "stream",
          "name": "stdout",
          "text": [
            "12 8 5 5.0 20 100\n"
          ]
        }
      ]
    },
    {
      "cell_type": "code",
      "source": [
        "#Assignment and shorthand operation\n",
        "a += 3\n",
        "b -= 4\n",
        "print(a,b)"
      ],
      "metadata": {
        "colab": {
          "base_uri": "https://localhost:8080/"
        },
        "id": "vzhTOC-EzIpf",
        "outputId": "34ea84b7-dc71-4543-8df7-73698667c279"
      },
      "execution_count": null,
      "outputs": [
        {
          "output_type": "stream",
          "name": "stdout",
          "text": [
            "13 -2\n"
          ]
        }
      ]
    },
    {
      "cell_type": "code",
      "source": [
        "#Comparison Operators\n",
        "\n",
        "print(a<b)\n",
        "print(a!=b)"
      ],
      "metadata": {
        "colab": {
          "base_uri": "https://localhost:8080/"
        },
        "id": "EiTej75Xzm0N",
        "outputId": "56adebdf-ea3b-4d07-bb7f-3d3f18adf82a"
      },
      "execution_count": null,
      "outputs": [
        {
          "output_type": "stream",
          "name": "stdout",
          "text": [
            "False\n",
            "True\n"
          ]
        }
      ]
    },
    {
      "cell_type": "code",
      "source": [
        "#Identity operators\n",
        "print(a is not b)"
      ],
      "metadata": {
        "colab": {
          "base_uri": "https://localhost:8080/"
        },
        "id": "IAoGE2lF1Et8",
        "outputId": "06e18a45-358a-489d-b943-a32ac78b2b6f"
      },
      "execution_count": null,
      "outputs": [
        {
          "output_type": "stream",
          "name": "stdout",
          "text": [
            "True\n"
          ]
        }
      ]
    },
    {
      "cell_type": "code",
      "source": [
        "#Membership Operators\n",
        "a = [\"apple\",\"banana\",\"peach\"]\n",
        "print(\"apple\" in a)"
      ],
      "metadata": {
        "colab": {
          "base_uri": "https://localhost:8080/"
        },
        "id": "XUaZ0hx92ctz",
        "outputId": "08793e65-4ddd-4fce-9d9f-4f575821d693"
      },
      "execution_count": null,
      "outputs": [
        {
          "output_type": "stream",
          "name": "stdout",
          "text": [
            "True\n"
          ]
        }
      ]
    },
    {
      "cell_type": "code",
      "source": [
        "#Loops\n",
        "#while loop\n",
        "i=0\n",
        "while i<10:\n",
        "  if i==5:\n",
        "    i+=1\n",
        "    continue\n",
        "  print(i)\n",
        "  if i==7:\n",
        "    break\n",
        "  i +=1"
      ],
      "metadata": {
        "colab": {
          "base_uri": "https://localhost:8080/"
        },
        "id": "apA3tgSuUBk0",
        "outputId": "fb1e50f6-1d6e-4119-cc0d-1ab8435c4227"
      },
      "execution_count": null,
      "outputs": [
        {
          "output_type": "stream",
          "name": "stdout",
          "text": [
            "0\n",
            "1\n",
            "2\n",
            "3\n",
            "4\n",
            "6\n",
            "7\n"
          ]
        }
      ]
    },
    {
      "cell_type": "code",
      "source": [
        "#for loop\n",
        "colors = [\"red\",\"black\", \"white\"]\n",
        "for x in colors:\n",
        "  if x==\"black\":\n",
        "    continue\n",
        "  print(x)"
      ],
      "metadata": {
        "colab": {
          "base_uri": "https://localhost:8080/"
        },
        "id": "UWQZJbmMUQ7B",
        "outputId": "6c54e3d4-8ed4-45c3-c814-11a7ca1289b1"
      },
      "execution_count": null,
      "outputs": [
        {
          "output_type": "stream",
          "name": "stdout",
          "text": [
            "red\n",
            "white\n"
          ]
        }
      ]
    },
    {
      "cell_type": "code",
      "source": [
        "def hello(name,surname):\n",
        "  return \"hello \" + name +\" \"+ surname\n",
        "print(hello(\"hritvik\",\"semwal\"))\n"
      ],
      "metadata": {
        "colab": {
          "base_uri": "https://localhost:8080/"
        },
        "id": "pmO_thx3VYE1",
        "outputId": "615391fa-9405-4732-d66a-c25e87a9d7f1"
      },
      "execution_count": null,
      "outputs": [
        {
          "output_type": "stream",
          "name": "stdout",
          "text": [
            "hello hritvik semwal\n"
          ]
        }
      ]
    },
    {
      "cell_type": "code",
      "source": [
        "!python --version\n",
        "import sys\n",
        "print(sys.version)\n",
        "print(sys.version_info)"
      ],
      "metadata": {
        "colab": {
          "base_uri": "https://localhost:8080/"
        },
        "id": "2tK-TokVbMO-",
        "outputId": "aa45582d-ac40-442e-81de-7fc8a03fd23f"
      },
      "execution_count": null,
      "outputs": [
        {
          "output_type": "stream",
          "name": "stdout",
          "text": [
            "Python 3.7.12\n",
            "3.7.12 (default, Jan 15 2022, 18:48:18) \n",
            "[GCC 7.5.0]\n",
            "sys.version_info(major=3, minor=7, micro=12, releaselevel='final', serial=0)\n"
          ]
        }
      ]
    },
    {
      "cell_type": "code",
      "source": [
        "#date and time\n",
        "import datetime\n",
        "current = datetime.datetime.now()\n",
        "print(current)"
      ],
      "metadata": {
        "colab": {
          "base_uri": "https://localhost:8080/"
        },
        "id": "pRdl3Zsfbrq4",
        "outputId": "0c578bcf-8f24-4899-fc2f-0c495169b82a"
      },
      "execution_count": null,
      "outputs": [
        {
          "output_type": "stream",
          "name": "stdout",
          "text": [
            "2022-02-07 09:13:45.502318\n"
          ]
        }
      ]
    },
    {
      "cell_type": "code",
      "source": [
        "#area of circle\n",
        "import math\n",
        "r = float(input(\"Enter the radius of a circle:\"))\n",
        "area = math.pi * r * r\n",
        "print(\"Area of a circle = %.2f\" %area)"
      ],
      "metadata": {
        "colab": {
          "base_uri": "https://localhost:8080/"
        },
        "id": "fMw4GuZ2dXY4",
        "outputId": "5e114886-6348-4f70-e3a8-ed863f0d6966"
      },
      "execution_count": null,
      "outputs": [
        {
          "output_type": "stream",
          "name": "stdout",
          "text": [
            "Enter the radius of a circle:23232\n",
            "Area of a circle = 1695598683.63\n"
          ]
        }
      ]
    },
    {
      "cell_type": "code",
      "source": [
        "#output name in reverse order\n",
        "name = []\n",
        "print(\"Firstname\")\n",
        "name.append(input())\n",
        "print(\"Lastname:\")\n",
        "name.append(input())\n",
        "name.reverse()\n",
        "print(*name)"
      ],
      "metadata": {
        "colab": {
          "base_uri": "https://localhost:8080/"
        },
        "id": "69rhftRChM0m",
        "outputId": "6eb8b13d-ac95-4cc0-abc1-a6abe3b028ee"
      },
      "execution_count": null,
      "outputs": [
        {
          "output_type": "stream",
          "name": "stdout",
          "text": [
            "Firstname\n",
            "Hritvik\n",
            "Lastname:\n",
            "Semwal\n",
            "Semwal Hritvik\n"
          ]
        }
      ]
    },
    {
      "cell_type": "code",
      "source": [
        "#python prg that accepts n and return n+nn+nnn\n",
        "n = int(input())\n",
        "print(n + ((n*10) + n) + ((n*100)+(n*10) + n))\n",
        "\n",
        "m = input()\n",
        "m1 = m+m\n",
        "m2 = m1+m\n",
        "print(int(m) + int(m1) + int(m2))"
      ],
      "metadata": {
        "colab": {
          "base_uri": "https://localhost:8080/"
        },
        "id": "TMtmqSmDimOR",
        "outputId": "95c55368-2cdc-4153-90bc-c716e8752d98"
      },
      "execution_count": null,
      "outputs": [
        {
          "output_type": "stream",
          "name": "stdout",
          "text": [
            "2\n",
            "246\n",
            "2\n",
            "246\n"
          ]
        }
      ]
    },
    {
      "cell_type": "code",
      "source": [
        "colors = [\"red\", \"blue\", \"green\",\"black\"]\n",
        "print(colors[0],colors[-1])"
      ],
      "metadata": {
        "colab": {
          "base_uri": "https://localhost:8080/"
        },
        "id": "F3jFS4ScnbFD",
        "outputId": "df0343b1-4026-450e-a8dc-391d92792cbc"
      },
      "execution_count": null,
      "outputs": [
        {
          "output_type": "stream",
          "name": "stdout",
          "text": [
            "red black\n"
          ]
        }
      ]
    },
    {
      "cell_type": "code",
      "source": [
        "import datetime\n",
        "strdate = datetime.datetime.now()+datetime.timedelta(1)\n",
        "print(strdate)"
      ],
      "metadata": {
        "colab": {
          "base_uri": "https://localhost:8080/"
        },
        "id": "9SnGbnObpTcQ",
        "outputId": "69cad8aa-3181-4384-f431-4ead1189213a"
      },
      "execution_count": null,
      "outputs": [
        {
          "output_type": "stream",
          "name": "stdout",
          "text": [
            "2022-02-08 10:18:18.451770\n"
          ]
        }
      ]
    },
    {
      "cell_type": "code",
      "source": [
        "\n",
        "import os\n",
        "fname= input(\"Enter file name: \")\n",
        "print(os.path.splitext(fname))\n"
      ],
      "metadata": {
        "colab": {
          "base_uri": "https://localhost:8080/"
        },
        "id": "2YzlBEwGrpYR",
        "outputId": "40226a46-ca20-42ba-e157-d8c469ff6d85"
      },
      "execution_count": null,
      "outputs": [
        {
          "output_type": "stream",
          "name": "stdout",
          "text": [
            "Enter file name: OS/G:/os.txt\n",
            "('OS/G:/os', '.txt')\n"
          ]
        }
      ]
    },
    {
      "cell_type": "code",
      "source": [
        "print(input(\"Enter File Name: \").split('.')[-1])"
      ],
      "metadata": {
        "colab": {
          "base_uri": "https://localhost:8080/"
        },
        "id": "UhQBUUYrtTrC",
        "outputId": "b8a66370-f81f-49b5-dfad-fb6fdcb0599b"
      },
      "execution_count": null,
      "outputs": [
        {
          "output_type": "stream",
          "name": "stdout",
          "text": [
            "Enter File Name: osp.txt\n",
            "txt\n"
          ]
        }
      ]
    },
    {
      "cell_type": "code",
      "source": [
        "#built in functions: predefined functions in the language\n",
        "#user defined functions\n",
        "import cmath\n",
        "complex1 = complex(-20,5)\n",
        "print(\"Absolute value of -20 + 5i is\",abs(complex1),complex1.imag)\n",
        "print(bin(10))\n"
      ],
      "metadata": {
        "id": "SAQZWq9guNqa",
        "colab": {
          "base_uri": "https://localhost:8080/"
        },
        "outputId": "dbe3b16c-c21e-4d4f-c41b-57196532c7e1"
      },
      "execution_count": null,
      "outputs": [
        {
          "output_type": "stream",
          "name": "stdout",
          "text": [
            "Absolute value of -20 + 5i is 20.615528128088304 5.0\n",
            "0b1010\n"
          ]
        }
      ]
    },
    {
      "cell_type": "code",
      "source": [
        "#any and all\n",
        "l = [1,3,4,False]\n",
        "print(all(l))\n",
        "print(any(l))"
      ],
      "metadata": {
        "colab": {
          "base_uri": "https://localhost:8080/"
        },
        "id": "wrPpE7HWj6X-",
        "outputId": "ee383b56-0b7f-4350-974a-a357d75138b1"
      },
      "execution_count": null,
      "outputs": [
        {
          "output_type": "stream",
          "name": "stdout",
          "text": [
            "False\n",
            "True\n"
          ]
        }
      ]
    },
    {
      "cell_type": "code",
      "source": [
        "#formatted print\n",
        "print(format(2,\"b\"))"
      ],
      "metadata": {
        "colab": {
          "base_uri": "https://localhost:8080/"
        },
        "id": "XJQPhcoVpTYa",
        "outputId": "48dfcf85-f862-4c09-b3cd-a7fa73582ab5"
      },
      "execution_count": null,
      "outputs": [
        {
          "output_type": "stream",
          "name": "stdout",
          "text": [
            "10\n"
          ]
        }
      ]
    },
    {
      "cell_type": "code",
      "source": [
        "#length of string\n",
        "print(len(\"String\"))"
      ],
      "metadata": {
        "colab": {
          "base_uri": "https://localhost:8080/"
        },
        "id": "UqQ7Yz-VyRyu",
        "outputId": "ab65674c-0bd2-477e-f957-6b308750e24b"
      },
      "execution_count": null,
      "outputs": [
        {
          "output_type": "stream",
          "name": "stdout",
          "text": [
            "6\n"
          ]
        }
      ]
    },
    {
      "cell_type": "code",
      "source": [
        "a = \"Stirrng\"\n",
        "print(list(a))\n",
        "print(tuple(a))\n",
        "print(set(a))"
      ],
      "metadata": {
        "colab": {
          "base_uri": "https://localhost:8080/"
        },
        "id": "pdpscztQyob7",
        "outputId": "acde04de-280b-4212-b8b4-beaaeb3393cc"
      },
      "execution_count": null,
      "outputs": [
        {
          "output_type": "stream",
          "name": "stdout",
          "text": [
            "['S', 't', 'i', 'r', 'r', 'n', 'g']\n",
            "('S', 't', 'i', 'r', 'r', 'n', 'g')\n",
            "{'n', 'g', 'r', 'i', 'S', 't'}\n"
          ]
        }
      ]
    },
    {
      "cell_type": "code",
      "source": [
        "#divmod= quotient and remainder\n",
        "print(divmod(10,2))"
      ],
      "metadata": {
        "colab": {
          "base_uri": "https://localhost:8080/"
        },
        "id": "aMAbWTkkyws8",
        "outputId": "74a07839-5666-4fc8-be9e-3d0b7a935c21"
      },
      "execution_count": null,
      "outputs": [
        {
          "output_type": "stream",
          "name": "stdout",
          "text": [
            "(5, 0)\n"
          ]
        }
      ]
    },
    {
      "cell_type": "code",
      "source": [
        "# 1.Write a Python function to find the Max of three numbers.\n",
        "def maxn(n):\n",
        "  return max(n)\n",
        "\n",
        "# 2. Write a Python function to sum all the numbers in a list.\n",
        "# Sample List : (8, 2, 3, 0, 7)\n",
        "def sumall(a):\n",
        "  return sum(a)\n",
        "\n",
        "# 3. Write a Python function to multiply all the numbers in a list.\n",
        "# Sample List : (8, 2, 3, -1, 7)\n",
        "import numpy as np\n",
        "def mult(l):\n",
        "  return np.prod(l)\n",
        "\n",
        "# 4. Write a Python program to reverse a string.\n",
        "# Sample String : \"1234abcd\"\n",
        "def reverser(s):\n",
        "  return s[::-1]\n",
        "\n",
        "# 5. Write a Python function to calculate the factorial of a number (a non-negative integer). The function accepts the number as an argument.\n",
        "import math\n",
        "def fact(n):\n",
        "    return math.factorial(n)\n",
        "\n",
        "# 6.Write a Python function to check whether a number falls in a given range.\n",
        "def checker(low,high,n):\n",
        "  if n in range(low,high):\n",
        "    return True\n",
        "  else:\n",
        "    return False\n",
        "\n",
        "# 7. Write a Python program to print the even numbers from a given list.\n",
        "def evenPrinter(l):\n",
        "  res = []\n",
        "  for i in l:\n",
        "    if i%2==0:\n",
        "      res.append(i)\n",
        "  return res\n",
        "\n",
        "numlist = [1,2,3]\n",
        "print(maxn(numlist))\n",
        "print(sumall(numlist))\n",
        "print(mult(numlist))\n",
        "\n",
        "samplestr = \"1234abcd\"\n",
        "print(reverser(samplestr))\n",
        "\n",
        "print(fact(5))\n",
        "\n",
        "print(checker(1,4,3))\n",
        "\n",
        "print(evenPrinter(numlist))\n",
        "\n"
      ],
      "metadata": {
        "colab": {
          "base_uri": "https://localhost:8080/"
        },
        "id": "tqf58fmZy5Ja",
        "outputId": "0b1d1b1e-cc50-4208-ca33-22366561b6f5"
      },
      "execution_count": null,
      "outputs": [
        {
          "output_type": "stream",
          "name": "stdout",
          "text": [
            "3\n",
            "6\n",
            "6\n",
            "dcba4321\n",
            "120\n",
            "True\n",
            "[2]\n"
          ]
        }
      ]
    },
    {
      "cell_type": "code",
      "source": [
        "!pip install pyspark"
      ],
      "metadata": {
        "id": "MEBbUxS9_a4o",
        "colab": {
          "base_uri": "https://localhost:8080/"
        },
        "outputId": "751f9f8b-f505-4c56-ad38-34cf862ebf97"
      },
      "execution_count": null,
      "outputs": [
        {
          "output_type": "stream",
          "name": "stdout",
          "text": [
            "Collecting pyspark\n",
            "  Downloading pyspark-3.2.1.tar.gz (281.4 MB)\n",
            "\u001b[K     |████████████████████████████████| 281.4 MB 35 kB/s \n",
            "\u001b[?25hCollecting py4j==0.10.9.3\n",
            "  Downloading py4j-0.10.9.3-py2.py3-none-any.whl (198 kB)\n",
            "\u001b[K     |████████████████████████████████| 198 kB 53.6 MB/s \n",
            "\u001b[?25hBuilding wheels for collected packages: pyspark\n",
            "  Building wheel for pyspark (setup.py) ... \u001b[?25l\u001b[?25hdone\n",
            "  Created wheel for pyspark: filename=pyspark-3.2.1-py2.py3-none-any.whl size=281853642 sha256=5e83bef18d6af02c89204295448d0ae89d947b6f82709d9cbebc1831e2b3dcd3\n",
            "  Stored in directory: /root/.cache/pip/wheels/9f/f5/07/7cd8017084dce4e93e84e92efd1e1d5334db05f2e83bcef74f\n",
            "Successfully built pyspark\n",
            "Installing collected packages: py4j, pyspark\n",
            "Successfully installed py4j-0.10.9.3 pyspark-3.2.1\n"
          ]
        }
      ]
    },
    {
      "cell_type": "code",
      "source": [
        ""
      ],
      "metadata": {
        "id": "k-ldBBOUwS9C"
      },
      "execution_count": null,
      "outputs": []
    }
  ]
}